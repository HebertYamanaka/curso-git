{
 "cells": [
  {
   "cell_type": "code",
   "execution_count": 1,
   "id": "486eb065-61ca-43f7-89ce-9a23f5b21852",
   "metadata": {},
   "outputs": [
    {
     "name": "stdout",
     "output_type": "stream",
     "text": [
      "bem vindo ao calculador de area de paralelogramo\n"
     ]
    }
   ],
   "source": [
    "print ('bem vindo ao calculador de area de paralelogramo')"
   ]
  },
  {
   "cell_type": "code",
   "execution_count": 3,
   "id": "f84d38ad-a6c6-4673-8b1a-563cbb884973",
   "metadata": {},
   "outputs": [
    {
     "name": "stdin",
     "output_type": "stream",
     "text": [
      "insira o comprimento da base 20\n"
     ]
    }
   ],
   "source": [
    "base = float(input('insira o comprimento da base:'))  "
   ]
  },
  {
   "cell_type": "code",
   "execution_count": 4,
   "id": "a75e85ee-beb7-494a-ac84-1893be694254",
   "metadata": {},
   "outputs": [
    {
     "name": "stdin",
     "output_type": "stream",
     "text": [
      "insira a altura 10\n"
     ]
    }
   ],
   "source": [
    "altura = float(input('insira a altura:'))"
   ]
  },
  {
   "cell_type": "code",
   "execution_count": 5,
   "id": "bcd98917-6293-4f64-9d3b-c0c7e4bb2640",
   "metadata": {},
   "outputs": [],
   "source": [
    "area = base * altura"
   ]
  },
  {
   "cell_type": "code",
   "execution_count": 6,
   "id": "6af0c63a-95f2-435c-9ecb-a51dcf61aecf",
   "metadata": {},
   "outputs": [
    {
     "name": "stdout",
     "output_type": "stream",
     "text": [
      "o valor da area é: 200.0\n"
     ]
    }
   ],
   "source": [
    "print ('o valor da area é:', area)"
   ]
  },
  {
   "cell_type": "code",
   "execution_count": null,
   "id": "1c61ae13-607b-4e2d-867a-2df41619d7f4",
   "metadata": {},
   "outputs": [],
   "source": []
  }
 ],
 "metadata": {
  "kernelspec": {
   "display_name": "Python [conda env:base] *",
   "language": "python",
   "name": "conda-base-py"
  },
  "language_info": {
   "codemirror_mode": {
    "name": "ipython",
    "version": 3
   },
   "file_extension": ".py",
   "mimetype": "text/x-python",
   "name": "python",
   "nbconvert_exporter": "python",
   "pygments_lexer": "ipython3",
   "version": "3.13.5"
  }
 },
 "nbformat": 4,
 "nbformat_minor": 5
}
