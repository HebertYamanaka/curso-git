{
 "cells": [
  {
   "cell_type": "code",
   "execution_count": null,
   "id": "54c44e62-b40c-46d3-b880-9e314ddcfa56",
   "metadata": {},
   "outputs": [],
   "source": [
    "print ('Bem vindo à calculadora')"
   ]
  },
  {
   "cell_type": "code",
   "execution_count": 1,
   "id": "ed808774-21a7-4d52-801a-5e54179346e4",
   "metadata": {},
   "outputs": [
    {
     "name": "stdin",
     "output_type": "stream",
     "text": [
      "digite o primeiro numero 10\n"
     ]
    }
   ],
   "source": [
    "numero1 = float(input ('digite o primeiro numero'))"
   ]
  },
  {
   "cell_type": "code",
   "execution_count": 2,
   "id": "3e774ab2-2074-4fd5-87fa-50ce2d5c1d14",
   "metadata": {},
   "outputs": [
    {
     "name": "stdin",
     "output_type": "stream",
     "text": [
      "digite o segundo numero 20\n"
     ]
    }
   ],
   "source": [
    "numero2 = float (input ('digite o segundo numero'))"
   ]
  },
  {
   "cell_type": "code",
   "execution_count": 4,
   "id": "d6e0a8fa-a02f-4737-a274-0cde7248585f",
   "metadata": {},
   "outputs": [
    {
     "name": "stdout",
     "output_type": "stream",
     "text": [
      "qual o tipo de calculo que deseja realizar?\n"
     ]
    }
   ],
   "source": [
    "print('qual o tipo de calculo que deseja realizar?')"
   ]
  },
  {
   "cell_type": "code",
   "execution_count": 8,
   "id": "543135f5-b497-48da-9819-4e078804b3e1",
   "metadata": {},
   "outputs": [
    {
     "name": "stdin",
     "output_type": "stream",
     "text": [
      "selecione uma operação (+,-,*,/): /\n"
     ]
    }
   ],
   "source": [
    "operacao = input('selecione uma operação (+,-,*,/):')\n"
   ]
  },
  {
   "cell_type": "code",
   "execution_count": 9,
   "id": "935f1468-de3b-4c6c-b874-c8ec69fc5eec",
   "metadata": {
    "scrolled": true
   },
   "outputs": [
    {
     "name": "stdout",
     "output_type": "stream",
     "text": [
      "O resultado é:  0.5\n"
     ]
    }
   ],
   "source": [
    "if operacao == '+':\n",
    "    resultado = numero1 + numero2\n",
    "    print('O resultado é: ',resultado)\n",
    "elif operacao == '-':\n",
    "    resultado = numero1 - numero2\n",
    "    print('O resultado é: ',resultado)\n",
    "elif operacao == '*' :\n",
    "    resultado = numero1 * numero2\n",
    "    print('O resultado é: ',resultado)\n",
    "elif operacao == '/' :\n",
    "    resultado = numero1 / numero2\n",
    "    print('O resultado é: ',resultado)"
   ]
  },
  {
   "cell_type": "code",
   "execution_count": null,
   "id": "d1cc4620-4472-410f-9315-a2b36c67d9cd",
   "metadata": {},
   "outputs": [],
   "source": [
    "else print ('comando inválido')"
   ]
  }
 ],
 "metadata": {
  "kernelspec": {
   "display_name": "Python [conda env:base] *",
   "language": "python",
   "name": "conda-base-py"
  },
  "language_info": {
   "codemirror_mode": {
    "name": "ipython",
    "version": 3
   },
   "file_extension": ".py",
   "mimetype": "text/x-python",
   "name": "python",
   "nbconvert_exporter": "python",
   "pygments_lexer": "ipython3",
   "version": "3.13.5"
  }
 },
 "nbformat": 4,
 "nbformat_minor": 5
}
