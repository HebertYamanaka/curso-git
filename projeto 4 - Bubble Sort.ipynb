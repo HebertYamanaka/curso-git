{
 "cells": [
  {
   "cell_type": "code",
   "execution_count": 1,
   "id": "c0702d95-11ae-4375-a15a-3f5e47fe7dc7",
   "metadata": {},
   "outputs": [],
   "source": [
    "#sortear/ordenar do menor para o maior. \n",
    "lista = [6,7,8,3,10,19,4,1,0,61,30,16,71,82,29,34,43,21,11,39,56,67,12]\n"
   ]
  },
  {
   "cell_type": "code",
   "execution_count": 4,
   "id": "19fe0340-5649-4138-8083-3874418b4041",
   "metadata": {},
   "outputs": [],
   "source": [
    "#função -> def\n",
    "def bubble_sort (arr):\n",
    "    n = len(arr)\n",
    "    for i in range (n):\n",
    "        for j in range(0, n-i-1):\n",
    "            if arr[j] > arr [j+1]:\n",
    "                arr[j],arr[j+1] = arr[j+1], arr[j]\n",
    "    return arr"
   ]
  },
  {
   "cell_type": "code",
   "execution_count": 5,
   "id": "2089929b-0bb7-4000-b942-41c31e805458",
   "metadata": {},
   "outputs": [
    {
     "name": "stdout",
     "output_type": "stream",
     "text": [
      "[0, 1, 3, 4, 6, 7, 8, 10, 11, 12, 16, 19, 21, 29, 30, 34, 39, 43, 56, 61, 67, 71, 82]\n"
     ]
    }
   ],
   "source": [
    "print (bubble_sort(lista))"
   ]
  },
  {
   "cell_type": "code",
   "execution_count": null,
   "id": "1ffd92d1-5e44-4816-a036-896217a3922d",
   "metadata": {},
   "outputs": [],
   "source": []
  },
  {
   "cell_type": "code",
   "execution_count": null,
   "id": "a5ba3ff9-b5e5-45a7-95b9-15f3a54a6d2d",
   "metadata": {},
   "outputs": [],
   "source": []
  },
  {
   "cell_type": "code",
   "execution_count": null,
   "id": "f5dd04b2-82e6-4c09-a9b0-5d8bf2047f98",
   "metadata": {},
   "outputs": [],
   "source": []
  }
 ],
 "metadata": {
  "kernelspec": {
   "display_name": "Python [conda env:base] *",
   "language": "python",
   "name": "conda-base-py"
  },
  "language_info": {
   "codemirror_mode": {
    "name": "ipython",
    "version": 3
   },
   "file_extension": ".py",
   "mimetype": "text/x-python",
   "name": "python",
   "nbconvert_exporter": "python",
   "pygments_lexer": "ipython3",
   "version": "3.13.5"
  }
 },
 "nbformat": 4,
 "nbformat_minor": 5
}
